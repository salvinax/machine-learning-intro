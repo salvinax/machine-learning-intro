{
 "cells": [
  {
   "attachments": {},
   "cell_type": "markdown",
   "id": "cf798513",
   "metadata": {
    "id": "cf798513"
   },
   "source": [
    "# Backpropagation using MINST dataset"
   ]
  },
  {
   "cell_type": "code",
   "execution_count": 1,
   "id": "b7e6a263",
   "metadata": {
    "id": "b7e6a263"
   },
   "outputs": [],
   "source": [
    "import torch\n",
    "import matplotlib.pyplot as plt\n",
    "from torchvision.datasets import MNIST"
   ]
  },
  {
   "cell_type": "code",
   "execution_count": 2,
   "id": "eKE_KANU7_sq",
   "metadata": {
    "colab": {
     "base_uri": "https://localhost:8080/"
    },
    "id": "eKE_KANU7_sq",
    "outputId": "946cd1ab-22bd-4efa-c734-faab97e6f40d"
   },
   "outputs": [
    {
     "data": {
      "text/plain": [
       "device(type='cpu')"
      ]
     },
     "execution_count": 2,
     "metadata": {},
     "output_type": "execute_result"
    }
   ],
   "source": [
    "# you can go to Edit - Notebook settings to select GPU under the Hardware accelerator\n",
    "# check the device\n",
    "device = torch.device('cuda' if torch.cuda.is_available() else 'cpu')\n",
    "device"
   ]
  },
  {
   "cell_type": "code",
   "execution_count": 3,
   "id": "9a5cbc46",
   "metadata": {
    "id": "9a5cbc46"
   },
   "outputs": [],
   "source": [
    "# build the dataset (train, validation and test)\n",
    "def load_MNIST(n_val=10000, n_sample=1000, sample=False):\n",
    "    n_val = n_val\n",
    "    n_sample = n_sample\n",
    "    train = MNIST(root = '.', train = True, download = True)\n",
    "    test = MNIST(root = '.', train = False, download = True)\n",
    "    \n",
    "    # data preprocessing\n",
    "    x_train, x_test = train.data/255, test.data/255\n",
    "    x_train = x_train.reshape(x_train.shape[0], -1)\n",
    "    x_test = x_test.reshape(x_test.shape[0], -1)\n",
    "    y_train = torch.nn.functional.one_hot(train.targets)\n",
    "    y_test = torch.nn.functional.one_hot(test.targets)\n",
    "\n",
    "    data_dict = {}\n",
    "    if sample:\n",
    "        data_dict['x_train'] = x_train[:-n_val][:n_sample]\n",
    "        data_dict['y_train'] = y_train[:-n_val][:n_sample]\n",
    "        data_dict['x_val'] = x_train[-n_val:][:n_sample//10]\n",
    "        data_dict['y_val'] = y_train[-n_val:][:n_sample//10]\n",
    "        data_dict['x_test'] = x_test[:n_sample//10]\n",
    "        data_dict['y_test'] = y_test[:n_sample//10]\n",
    "    else:\n",
    "        data_dict['x_train'] = x_train[:-n_val]\n",
    "        data_dict['y_train'] = y_train[:-n_val]\n",
    "        data_dict['x_val'] = x_train[-n_val:]\n",
    "        data_dict['y_val'] = y_train[-n_val:]\n",
    "        data_dict['x_test'] = x_test\n",
    "        data_dict['y_test'] = y_test\n",
    "    return data_dict"
   ]
  },
  {
   "cell_type": "code",
   "execution_count": 4,
   "id": "Q5G-vmpD21Bj",
   "metadata": {
    "colab": {
     "base_uri": "https://localhost:8080/",
     "height": 573
    },
    "id": "Q5G-vmpD21Bj",
    "outputId": "f053f294-9aad-4097-f75e-aaed70dd050e"
   },
   "outputs": [
    {
     "name": "stderr",
     "output_type": "stream",
     "text": [
      "2.0%"
     ]
    },
    {
     "name": "stdout",
     "output_type": "stream",
     "text": [
      "Downloading http://yann.lecun.com/exdb/mnist/train-images-idx3-ubyte.gz\n",
      "Downloading http://yann.lecun.com/exdb/mnist/train-images-idx3-ubyte.gz to .\\MNIST\\raw\\train-images-idx3-ubyte.gz\n"
     ]
    },
    {
     "name": "stderr",
     "output_type": "stream",
     "text": [
      "100.0%\n"
     ]
    },
    {
     "name": "stdout",
     "output_type": "stream",
     "text": [
      "Extracting .\\MNIST\\raw\\train-images-idx3-ubyte.gz to .\\MNIST\\raw\n"
     ]
    },
    {
     "name": "stderr",
     "output_type": "stream",
     "text": [
      "100.0%\n",
      "2.0%"
     ]
    },
    {
     "name": "stdout",
     "output_type": "stream",
     "text": [
      "\n",
      "Downloading http://yann.lecun.com/exdb/mnist/train-labels-idx1-ubyte.gz\n",
      "Downloading http://yann.lecun.com/exdb/mnist/train-labels-idx1-ubyte.gz to .\\MNIST\\raw\\train-labels-idx1-ubyte.gz\n",
      "Extracting .\\MNIST\\raw\\train-labels-idx1-ubyte.gz to .\\MNIST\\raw\n",
      "\n",
      "Downloading http://yann.lecun.com/exdb/mnist/t10k-images-idx3-ubyte.gz\n",
      "Downloading http://yann.lecun.com/exdb/mnist/t10k-images-idx3-ubyte.gz to .\\MNIST\\raw\\t10k-images-idx3-ubyte.gz\n"
     ]
    },
    {
     "name": "stderr",
     "output_type": "stream",
     "text": [
      "100.0%\n",
      "100.0%\n"
     ]
    },
    {
     "name": "stdout",
     "output_type": "stream",
     "text": [
      "Extracting .\\MNIST\\raw\\t10k-images-idx3-ubyte.gz to .\\MNIST\\raw\n",
      "\n",
      "Downloading http://yann.lecun.com/exdb/mnist/t10k-labels-idx1-ubyte.gz\n",
      "Downloading http://yann.lecun.com/exdb/mnist/t10k-labels-idx1-ubyte.gz to .\\MNIST\\raw\\t10k-labels-idx1-ubyte.gz\n",
      "Extracting .\\MNIST\\raw\\t10k-labels-idx1-ubyte.gz to .\\MNIST\\raw\n",
      "\n",
      "Train data shape: torch.Size([50000, 784])\n",
      "Train labels shape: torch.Size([50000, 10])\n",
      "Validation data shape: torch.Size([10000, 784])\n",
      "Validation labels shape: torch.Size([10000, 10])\n",
      "Test data shape: torch.Size([10000, 784])\n",
      "Test labels shape: torch.Size([10000, 10])\n"
     ]
    }
   ],
   "source": [
    "# you can start with a small sample dataset by setting sample=True\n",
    "data_dict = load_MNIST(sample=False)\n",
    "print('Train data shape:', data_dict['x_train'].shape)\n",
    "print('Train labels shape:', data_dict['y_train'].shape)\n",
    "print('Validation data shape:', data_dict['x_val'].shape)\n",
    "print('Validation labels shape:', data_dict['y_val'].shape)\n",
    "print('Test data shape:', data_dict['x_test'].shape)\n",
    "print('Test labels shape:', data_dict['y_test'].shape)"
   ]
  },
  {
   "cell_type": "code",
   "execution_count": 5,
   "id": "1aa9f016",
   "metadata": {
    "colab": {
     "base_uri": "https://localhost:8080/",
     "height": 281
    },
    "id": "1aa9f016",
    "outputId": "83a4195e-8fb9-4850-8a9a-7c3bbc2bb623",
    "scrolled": false
   },
   "outputs": [
    {
     "data": {
      "image/png": "[encoded data removed]",
      "text/plain": [
       "<Figure size 640x480 with 1 Axes>"
      ]
     },
     "metadata": {},
     "output_type": "display_data"
    }
   ],
   "source": [
    "# plot an example\n",
    "plt.imshow(data_dict['x_train'][0].reshape(28, 28))\n",
    "plt.title(data_dict['y_train'][0].argmax().item())\n",
    "plt.show()"
   ]
  },
  {
   "cell_type": "code",
   "execution_count": 6,
   "id": "6291c647",
   "metadata": {
    "id": "6291c647"
   },
   "outputs": [],
   "source": [
    "import cmd\n",
    "import numpy as np\n",
    "from torchmetrics import ConfusionMatrix\n",
    "\n",
    "def evaluator(y_test, y_pred):\n",
    "    ####################################################################################################\n",
    "    # code for evaluation metrics including confusion matrix, accuracy, precision and recall\n",
    "    # only use Numpy or Pytorch to implement the metrics\n",
    "            \n",
    "    cm = ConfusionMatrix(num_classes = 10)\n",
    "    cm = cm(y_pred, y_test)   #takes parameters in this order: (prediction, target)\n",
    "    \n",
    "    cm = cm.cpu().detach().numpy() #convert tensor to numpy array \n",
    "\n",
    "    accuracy = torch.sum(y_test == y_pred)/len(y_test)\n",
    "    precision = np.diag(cm) / np.sum(cm, axis = 0)\n",
    "    recall = np.diag(cm) / np.sum(cm, axis = 1)\n",
    "    f1 = (2*precision*recall)/(precision+recall)\n",
    "\n",
    "    #take average of all the classes \n",
    "    print(\" EVALUATION METRICS\")\n",
    "    print('Accuracy', accuracy.item())\n",
    "    print('Precision', precision.mean())\n",
    "    print('Recall', recall.mean())\n",
    "    print('F1 Score', f1.mean()) \n",
    "\n",
    "    #PRINT CONFUSION MATRIX\n",
    "    print()\n",
    "    print(\"           Confusion Matrix\")\n",
    "\n",
    "    print('actual      [            ]')\n",
    "    print('              prediction ')\n",
    "\n",
    "    print(cm)\n",
    "\n",
    "\n",
    "    # y_pred = y_pred.cpu().detach().numpy()\n",
    "    # y_test = y_test.cpu().detach().numpy()\n",
    "\n",
    "    # tp = np.sum(np.logical_and(y_test == 1, y_pred== 1))\n",
    "    # tn = np.sum(np.logical_and(y_test == 0, y_pred== 0))\n",
    "    # fp = np.sum(np.logical_and(y_test == 1, y_pred == 0))\n",
    "    # fn = np.sum(np.logical_and(y_test == 0, y_pred == 1))\n",
    "    ####################################################################################################"
   ]
  },
  {
   "attachments": {},
   "cell_type": "markdown",
   "id": "4e4a6b06",
   "metadata": {
    "id": "4e4a6b06"
   },
   "source": [
    "## [Part 1](#Part-1)  \n",
    "\n",
    "### Build Model1\n",
    "Use Pytorch to implement a three-layer Neural Network (input layer - hidden layer - output layer) and update the weights with backpropagation  \n",
    "- 1. Implement forward and calculate the output\n",
    "- 2. Calculate errors and loss\n",
    "- 3. Update the weights with backpropagation \n",
    "- 4. Predict function\n",
    "- 5. Activation function (Sigmoid function)\n",
    "\n",
    "### Evaluator Function\n",
    "Implement the evaluator function with Pytorch or Numpy only   \n",
    "- Evaluation metrics include confusion matrix, accuracy, recall score, precision and F1 score\n",
    "\n",
    "### Train and Evaluate Model1\n",
    "Train Model1 with customized hidden size, learning rate, number of iterations and batch size  \n",
    "Use the predict function to predict the labels with the test dataset  \n",
    "Evaluate the prediction results  \n",
    "- Evaluation metrics include confusion matrix, accuracy, recall score, precision and F1 score\n"
   ]
  },
  {
   "cell_type": "code",
   "execution_count": 7,
   "id": "a0d3fc2d",
   "metadata": {
    "id": "a0d3fc2d"
   },
   "outputs": [],
   "source": [
    "from cmath import nan\n",
    "from sys import displayhook\n",
    "import torch.nn as nn\n",
    "\n",
    "class NN(object):\n",
    "    def __init__(self, learning_rate, n_iters, batch_size, hidden_size, device, dtype=torch.float32):\n",
    "        self.learning_rate = learning_rate\n",
    "        self.n_iters = n_iters\n",
    "        self.batch_size = batch_size\n",
    "        self.hidden_size = hidden_size\n",
    "        self.device = device\n",
    "        self.dtype = dtype\n",
    "        self.history = {}\n",
    "        self.history['train_acc'], self.history['val_acc'], self.history['loss'] = [], [], []\n",
    "    \n",
    "    # 5. activation function\n",
    "    def sigmoid(self, x):\n",
    "        ####################################################################################################\n",
    "        # enter code here to implement the activation function\n",
    "        return 1/(1+torch.exp(-x))\n",
    "        ####################################################################################################\n",
    "\n",
    "    def train(self, x, y, x_val, y_val, verbose=1):\n",
    "        n_train = x.shape[0]\n",
    "        n_val = x_val.shape[0]\n",
    "        input_size = x.shape[1]\n",
    "        num_classes = y.shape[1]\n",
    "        \n",
    "        # weight initialization\n",
    "        self.W1 = torch.randn(input_size, self.hidden_size, dtype=self.dtype, device=self.device) * 0.01\n",
    "        self.W2 = torch.randn(self.hidden_size, num_classes, dtype=self.dtype, device=self.device) * 0.01\n",
    "\n",
    "        # TODO: train the weights with the input data and labels\n",
    "        for i in range(self.n_iters):\n",
    "            loss = 0\n",
    "            data = getBatch(x, y, self.batch_size)\n",
    "            for x_batch, y_batch in data:\n",
    "                # 1. forward\n",
    "                ####################################################################################################\n",
    "                # code to calculate the hidden layer output and output layer output\n",
    "                hidden = self.sigmoid(torch.matmul(x_batch, self.W1))\n",
    "                output = self.sigmoid(torch.matmul(hidden, self.W2))\n",
    "                ####################################################################################################\n",
    "\n",
    "                # 2. error and loss\n",
    "                ####################################################################################################\n",
    "                # code to calculate the output error, MSE loss, delta output and delta hidden\n",
    "                # code belows implements the calculation shown in https://mattmazur.com/2015/03/17/a-step-by-step-backpropagation-example/\n",
    "\n",
    "                output_error = output - y_batch #output - target\n",
    "                loss_a = output_error.pow(2).mean() #error = sum 1/n(target - out)^2\n",
    "\n",
    "                #removes NaN error - if value is NaN do not add it to loss sum \n",
    "                if loss_a == loss_a:\n",
    "                     loss += loss_a\n",
    "\n",
    "                d_o = torch.mul(output_error, (output*(1.0-output))) #outer node delta \n",
    "                delta_output = torch.matmul(hidden.T, d_o) #node delta * hidden output\n",
    "\n",
    "                dh = torch.matmul(d_o, self.W2.T)\n",
    "                d_h = torch.mul(dh, (hidden*(1.0-hidden)))  #hidden node delta\n",
    "    \n",
    "                delta_hidden = torch.matmul(x_batch.T, d_h) #hidden node delta * input \n",
    "\n",
    "                ####################################################################################################\n",
    "\n",
    "                # 3. backward\n",
    "                ####################################################################################################\n",
    "                # code to calculate delta weights and update the weights\n",
    "                self.W1 -= self.learning_rate * delta_hidden\n",
    "                self.W2 -= self.learning_rate * delta_output\n",
    "                ####################################################################################################\n",
    "\n",
    "            # calculate the accuracy and save the training history\n",
    "            y_pred = self.predict(x)\n",
    "            train_acc = torch.sum(torch.argmax(y, dim=1) == y_pred) / n_train\n",
    "            self.history['train_acc'].append(train_acc)\n",
    "            self.history['loss'].append(loss)\n",
    "            \n",
    "            y_pred = self.predict(x_val)\n",
    "            val_acc = torch.sum(torch.argmax(y_val, dim=1) == y_pred) / n_val\n",
    "            self.history['val_acc'].append(val_acc)\n",
    "            if verbose:\n",
    "                print('epoch %d, loss %.4f, train acc %.3f, validation acc %.3f'\n",
    "                  % (i + 1, loss, train_acc, val_acc))\n",
    "    \n",
    "    # 4. predict function \n",
    "    def predict(self, x):\n",
    "        ####################################################################################################\n",
    "        # code to implement the predict function\n",
    "        # TODO: use the trained weights to predict labels and return the predicted labels\n",
    "        # remember to use torch.argmax() to return the true labels\n",
    "        hidden = self.sigmoid(torch.matmul(x, self.W1))\n",
    "        output = self.sigmoid(torch.matmul(hidden, self.W2))\n",
    "    \n",
    "        return torch.argmax(output, dim=1) #return true labels\n",
    "        ####################################################################################################\n",
    "\n",
    "def getBatch(x, y, batch_size):\n",
    "    n_epoch = x.shape[0] // batch_size\n",
    "    for i in range(n_epoch):\n",
    "        x_batch = x[i * batch_size : (i+1) * batch_size]\n",
    "        y_batch = y[i * batch_size : (i+1) * batch_size]\n",
    "        yield x_batch, y_batch\n",
    "    x_batch = x[(i+1) * batch_size:]\n",
    "    y_batch = y[(i+1) * batch_size:]    \n",
    "    yield x_batch, y_batch"
   ]
  },
  {
   "cell_type": "code",
   "execution_count": 8,
   "id": "74e9819c",
   "metadata": {
    "colab": {
     "base_uri": "https://localhost:8080/"
    },
    "id": "74e9819c",
    "outputId": "c6b1745f-4e19-4f83-afb7-c22f07062738"
   },
   "outputs": [
    {
     "name": "stdout",
     "output_type": "stream",
     "text": [
      "epoch 1, loss 72.8811, train acc 0.931, validation acc 0.938\n",
      "epoch 2, loss 31.2665, train acc 0.953, validation acc 0.956\n",
      "epoch 3, loss 23.9409, train acc 0.962, validation acc 0.963\n",
      "epoch 4, loss 19.8536, train acc 0.968, validation acc 0.967\n",
      "epoch 5, loss 17.1310, train acc 0.973, validation acc 0.969\n",
      "epoch 6, loss 15.1632, train acc 0.976, validation acc 0.971\n",
      "epoch 7, loss 13.5934, train acc 0.978, validation acc 0.971\n",
      "epoch 8, loss 12.2954, train acc 0.980, validation acc 0.972\n",
      "epoch 9, loss 11.2000, train acc 0.982, validation acc 0.973\n",
      "epoch 10, loss 10.2676, train acc 0.983, validation acc 0.973\n"
     ]
    }
   ],
   "source": [
    "####################################################################################################\n",
    "# enter code here to train Model1\n",
    "# TODO: set your desired hidden size, learning rate, number of iterations and batch size\n",
    "# remeber to load the dataset to the device (e.g. data_dict['x_train'].to(device))\n",
    "model = NN(0.1, 10, 16, 100, device)\n",
    "model.train(data_dict['x_train'].to(device),\n",
    "            data_dict['y_train'].to(device),\n",
    "            data_dict['x_val'].to(device),\n",
    "            data_dict['y_val'].to(device), \n",
    "            verbose=1)\n",
    "\n",
    "####################################################################################################"
   ]
  },
  {
   "cell_type": "code",
   "execution_count": 9,
   "id": "bebd0600",
   "metadata": {
    "colab": {
     "base_uri": "https://localhost:8080/",
     "height": 265
    },
    "id": "bebd0600",
    "outputId": "4cf59edb-b5bd-417c-913f-78b5a793189f"
   },
   "outputs": [
    {
     "data": {
      "image/png": "[encoded data removed]",
      "text/plain": [
       "<Figure size 640x480 with 1 Axes>"
      ]
     },
     "metadata": {},
     "output_type": "display_data"
    }
   ],
   "source": [
    "plt.plot(model.history['train_acc'], label='train_acc')\n",
    "plt.plot(model.history['val_acc'], label='val_acc')\n",
    "plt.legend()\n",
    "plt.show()"
   ]
  },
  {
   "cell_type": "code",
   "execution_count": 10,
   "id": "UQciuqY96_6Z",
   "metadata": {
    "colab": {
     "base_uri": "https://localhost:8080/"
    },
    "id": "UQciuqY96_6Z",
    "outputId": "0aff8095-e7a6-4558-f99c-36d2512488f7"
   },
   "outputs": [
    {
     "name": "stdout",
     "output_type": "stream",
     "text": [
      " EVALUATION METRICS\n",
      "Accuracy 0.9718000292778015\n",
      "Precision 0.9720292492124056\n",
      "Recall 0.9716512460484374\n",
      "F1 Score 0.9716875127045237\n",
      "\n",
      "           Confusion Matrix\n",
      "actual      [            ]\n",
      "              prediction \n",
      "[[ 964    0    1    4    0    3    5    1    2    0]\n",
      " [   0 1114    1    7    0    1    2    2    8    0]\n",
      " [   5    0 1001    9    2    0    1    7    7    0]\n",
      " [   0    0    3  994    0    1    0    6    5    1]\n",
      " [   1    0    4    1  965    0    4    1    2    4]\n",
      " [   3    0    0   17    1  855    7    1    5    3]\n",
      " [   6    2    0    1    1    2  942    0    4    0]\n",
      " [   1    6   11    5    1    0    1  993    5    5]\n",
      " [   2    0    3    7    5    3    6    3  944    1]\n",
      " [   3    6    1   17   18    3    1    8    6  946]]\n"
     ]
    }
   ],
   "source": [
    "####################################################################################################\n",
    "# enter code here to evaluate Model1 with test set\n",
    "# TODO: use the trained Model1 to predict the labels of test set and evaluate the results with the evaluator\n",
    "predict = model.predict(data_dict['x_test'].to(device))\n",
    "y_test_labels = torch.argmax(data_dict['y_test'].to(device), dim=1)\n",
    "evaluator(y_test_labels, predict)\n",
    "####################################################################################################"
   ]
  },
  {
   "attachments": {},
   "cell_type": "markdown",
   "id": "d104613f",
   "metadata": {},
   "source": [
    "## [Part 2](#Part-2)  \n",
    "\n",
    "Use another machine learning framework (**scikit-learn, Tensorflow and Pytorch**) to build MLP\n",
    "e.g. \n",
    "  1. https://scikit-learn.org/stable/modules/generated/sklearn.neural_network.MLPClassifier.html\n",
    "  2. https://www.tensorflow.org/api_docs/python/tf/keras/Sequential\n",
    "  3. https://pytorch.org/tutorials/beginner/examples_nn/polynomial_nn.html#sphx-glr-beginner-examples-nn-polynomial-nn-py\n",
    "  \n",
    "### Build Model2-1\n",
    "Implement Model2-1 with the same hidden nodes and optimization function as the model in Part 1  \n",
    "Train and validate model. Use the best model on validation dataset to test on the test dataset  \n",
    "\n",
    "### Train and Evaluate Model2-1\n",
    "Evaluate the prediction results  \n",
    "- Evaluation metrics include confusion matrix, accuracy, recall score, precision and F1 score\n",
    "\n",
    "### Build Model2-2\n",
    "Add one more hidden layer (2 hidden layers in total) to the model  \n",
    "Describe Model2-2 (number of hidden nodes)  \n",
    "Train and validate model. Use the best model on validation dataset to test on the test dataset  \n",
    "\n",
    "### Train and Evaluate Model2-2\n",
    "Evaluate the prediction results  \n",
    "- Evaluation metrics include confusion matrix, accuracy, recall score, precision and F1 score"
   ]
  },
  {
   "cell_type": "markdown",
   "id": "a5c845a9",
   "metadata": {},
   "source": [
    "### Model2-1"
   ]
  },
  {
   "cell_type": "code",
   "execution_count": 11,
   "id": "13519996",
   "metadata": {},
   "outputs": [],
   "source": [
    "####################################################################################################\n",
    "# enter code here to implement Model2-1\n",
    "from pickle import TRUE\n",
    "from sklearn.neural_network import MLPClassifier\n",
    "#chose a 2^n batch size \n",
    "#small learning rate\n",
    "#fixed # of epochs\n",
    "\n",
    "mlp = MLPClassifier(activation = 'logistic',learning_rate_init= 0.1, hidden_layer_sizes= (100,), batch_size = 64, \n",
    "                                        early_stopping = True, solver='sgd', max_iter = 10, verbose = True)\n",
    "\n",
    "######################################################################################################"
   ]
  },
  {
   "cell_type": "code",
   "execution_count": 12,
   "id": "208a8e33",
   "metadata": {},
   "outputs": [
    {
     "name": "stdout",
     "output_type": "stream",
     "text": [
      "Iteration 1, loss = 0.78507691\n",
      "Validation score: 0.888400\n",
      "Iteration 2, loss = 0.37903427\n",
      "Validation score: 0.918600\n",
      "Iteration 3, loss = 0.28763333\n",
      "Validation score: 0.930200\n",
      "Iteration 4, loss = 0.23487739\n",
      "Validation score: 0.940200\n",
      "Iteration 5, loss = 0.19977679\n",
      "Validation score: 0.943000\n",
      "Iteration 6, loss = 0.17426288\n",
      "Validation score: 0.943000\n",
      "Iteration 7, loss = 0.15277445\n",
      "Validation score: 0.949200\n",
      "Iteration 8, loss = 0.13680322\n",
      "Validation score: 0.944400\n",
      "Iteration 9, loss = 0.12491563\n",
      "Validation score: 0.947800\n",
      "Iteration 10, loss = 0.11227851\n",
      "Validation score: 0.951400\n"
     ]
    },
    {
     "name": "stderr",
     "output_type": "stream",
     "text": [
      "c:\\Users\\salvi\\AppData\\Local\\Programs\\Python\\Python310\\lib\\site-packages\\sklearn\\neural_network\\_multilayer_perceptron.py:702: ConvergenceWarning: Stochastic Optimizer: Maximum iterations (10) reached and the optimization hasn't converged yet.\n",
      "  warnings.warn(\n"
     ]
    }
   ],
   "source": [
    "# enter code here to train Model2-1\n",
    "####################################################################################################\n",
    "mlp.fit(data_dict['x_train'], data_dict['y_train']) \n",
    "y_prediction1 = mlp.predict(data_dict['x_test'])\n",
    "# ####################################################################################################"
   ]
  },
  {
   "cell_type": "code",
   "execution_count": 13,
   "id": "f61594f0",
   "metadata": {},
   "outputs": [
    {
     "name": "stdout",
     "output_type": "stream",
     "text": [
      "           CONFUSION MATRIX\n",
      "actual      [            ]\n",
      "              prediction \n",
      "\n",
      "[[ 978    0    0    0    0    0    0    1    1    0]\n",
      " [  10 1120    1    0    0    1    1    0    2    0]\n",
      " [  28    0  998    1    0    0    0    3    2    0]\n",
      " [  25    0   11  967    0    0    0    2    4    1]\n",
      " [  27    0    5    0  928    0    2    1    2   17]\n",
      " [  32    1    1   12    0  839    3    1    3    0]\n",
      " [  30    3    0    0    3    2  918    0    2    0]\n",
      " [  22    5   12    3    1    0    0  979    0    6]\n",
      " [  20    0    5    7    3    5    1    3  930    0]\n",
      " [  45    6    1    5    3    2    0    4    7  936]]\n",
      "\n",
      "                      EVALUATION METRICS\n",
      "              precision    recall  f1-score   support\n",
      "\n",
      "           0       0.80      1.00      0.89       980\n",
      "           1       0.99      0.99      0.99      1135\n",
      "           2       0.97      0.97      0.97      1032\n",
      "           3       0.97      0.96      0.96      1010\n",
      "           4       0.99      0.95      0.97       982\n",
      "           5       0.99      0.94      0.96       892\n",
      "           6       0.99      0.96      0.98       958\n",
      "           7       0.98      0.95      0.97      1028\n",
      "           8       0.98      0.95      0.97       974\n",
      "           9       0.97      0.93      0.95      1009\n",
      "\n",
      "    accuracy                           0.96     10000\n",
      "   macro avg       0.96      0.96      0.96     10000\n",
      "weighted avg       0.96      0.96      0.96     10000\n",
      "\n"
     ]
    }
   ],
   "source": [
    "from sklearn.metrics import classification_report, confusion_matrix\n",
    "####################################################################################################\n",
    "# enter code here to evaluate Model2-1\n",
    "print(\"           CONFUSION MATRIX\")\n",
    "print('actual      [            ]')\n",
    "print('              prediction ')\n",
    "print()\n",
    "cf_matrix = confusion_matrix(data_dict['y_test'].argmax(axis=1), y_prediction1.argmax(axis=1))\n",
    "print(cf_matrix)\n",
    "print()\n",
    "print(\"                      EVALUATION METRICS\")\n",
    "print(classification_report(data_dict['y_test'].argmax(axis=1), y_prediction1.argmax(axis=1)))\n",
    "####################################################################################################"
   ]
  },
  {
   "cell_type": "markdown",
   "id": "c4a9243f",
   "metadata": {},
   "source": [
    "### Model2-2"
   ]
  },
  {
   "cell_type": "code",
   "execution_count": 14,
   "id": "0eaf38a5",
   "metadata": {},
   "outputs": [],
   "source": [
    "####################################################################################################\n",
    "# enter code here to implement Model2-2\n",
    "from pickle import TRUE\n",
    "from sklearn.neural_network import MLPClassifier\n",
    "#two hidden layers \n",
    "mlp2 = MLPClassifier(activation = 'logistic',learning_rate_init= 0.1, hidden_layer_sizes = (100, 50), batch_size = 64, \n",
    "                                        early_stopping = True, solver='sgd', max_iter = 10, verbose = True)\n",
    "####################################################################################################"
   ]
  },
  {
   "cell_type": "code",
   "execution_count": 15,
   "id": "090300ae",
   "metadata": {},
   "outputs": [
    {
     "name": "stdout",
     "output_type": "stream",
     "text": [
      "Iteration 1, loss = 1.22279900\n",
      "Validation score: 0.885600\n",
      "Iteration 2, loss = 0.39561546\n",
      "Validation score: 0.922400\n",
      "Iteration 3, loss = 0.27364479\n",
      "Validation score: 0.939600\n",
      "Iteration 4, loss = 0.20850655\n",
      "Validation score: 0.951200\n",
      "Iteration 5, loss = 0.17093354\n",
      "Validation score: 0.954200\n",
      "Iteration 6, loss = 0.14398655\n",
      "Validation score: 0.948800\n",
      "Iteration 7, loss = 0.12392409\n",
      "Validation score: 0.955600\n",
      "Iteration 8, loss = 0.10333955\n",
      "Validation score: 0.962400\n",
      "Iteration 9, loss = 0.08954004\n",
      "Validation score: 0.955800\n",
      "Iteration 10, loss = 0.07783621\n",
      "Validation score: 0.962000\n"
     ]
    },
    {
     "name": "stderr",
     "output_type": "stream",
     "text": [
      "c:\\Users\\salvi\\AppData\\Local\\Programs\\Python\\Python310\\lib\\site-packages\\sklearn\\neural_network\\_multilayer_perceptron.py:702: ConvergenceWarning: Stochastic Optimizer: Maximum iterations (10) reached and the optimization hasn't converged yet.\n",
      "  warnings.warn(\n"
     ]
    }
   ],
   "source": [
    "####################################################################################################\n",
    "# enter code here to train Model2-2\n",
    "mlp2.fit(data_dict['x_train'], data_dict['y_train']) \n",
    "y_prediction2 = mlp2.predict(data_dict['x_test'])\n",
    "####################################################################################################"
   ]
  },
  {
   "cell_type": "code",
   "execution_count": 16,
   "id": "ca87daf8",
   "metadata": {},
   "outputs": [
    {
     "name": "stdout",
     "output_type": "stream",
     "text": [
      "           CONFUSION MATRIX\n",
      "actual      [            ]\n",
      "              prediction \n",
      "\n",
      "[[ 967    0    0    1    2    2    6    1    1    0]\n",
      " [   5 1126    0    0    0    1    1    0    2    0]\n",
      " [  27    1  990    3    1    0    2    4    4    0]\n",
      " [  17    1    2  980    0    1    0    4    3    2]\n",
      " [  13    0    1    0  946    0    5    0    1   16]\n",
      " [  22    1    0    5    0  853    5    1    4    1]\n",
      " [  11    3    1    0    2    4  933    0    4    0]\n",
      " [  18    5    7    5    0    0    0  987    0    6]\n",
      " [  22    1    1    4    2    6    2    3  931    2]\n",
      " [  19    4    0    9    5    4    1    6    4  957]]\n",
      "\n",
      "                      EVALUATION METRICS\n",
      "              precision    recall  f1-score   support\n",
      "\n",
      "           0       0.86      0.99      0.92       980\n",
      "           1       0.99      0.99      0.99      1135\n",
      "           2       0.99      0.96      0.97      1032\n",
      "           3       0.97      0.97      0.97      1010\n",
      "           4       0.99      0.96      0.98       982\n",
      "           5       0.98      0.96      0.97       892\n",
      "           6       0.98      0.97      0.98       958\n",
      "           7       0.98      0.96      0.97      1028\n",
      "           8       0.98      0.96      0.97       974\n",
      "           9       0.97      0.95      0.96      1009\n",
      "\n",
      "    accuracy                           0.97     10000\n",
      "   macro avg       0.97      0.97      0.97     10000\n",
      "weighted avg       0.97      0.97      0.97     10000\n",
      "\n"
     ]
    }
   ],
   "source": [
    "####################################################################################################\n",
    "# enter code here to evaluate Model2-2\n",
    "from sklearn.metrics import classification_report, confusion_matrix\n",
    "\n",
    "print(\"           CONFUSION MATRIX\")\n",
    "print('actual      [            ]')\n",
    "print('              prediction ')\n",
    "print()\n",
    "cf_matrix = confusion_matrix(data_dict['y_test'].argmax(axis=1), y_prediction2.argmax(axis=1))\n",
    "print(cf_matrix)\n",
    "print()\n",
    "print(\"                      EVALUATION METRICS\")\n",
    "print(classification_report(data_dict['y_test'].argmax(axis=1), y_prediction2.argmax(axis=1)))\n",
    "####################################################################################################\n",
    "\n"
   ]
  }
 ],
 "metadata": {
  "accelerator": "GPU",
  "colab": {
   "collapsed_sections": [],
   "name": "A2_solution.ipynb",
   "provenance": []
  },
  "kernelspec": {
   "display_name": "Python 3.10.4 64-bit",
   "language": "python",
   "name": "python3"
  },
  "language_info": {
   "codemirror_mode": {
    "name": "ipython",
    "version": 3
   },
   "file_extension": ".py",
   "mimetype": "text/x-python",
   "name": "python",
   "nbconvert_exporter": "python",
   "pygments_lexer": "ipython3",
   "version": "3.10.4"
  },
  "vscode": {
   "interpreter": {
    "hash": "02cfc429b2e24114355da6aa7d6a7dc7ac0f6ad77f72d32bcd606d47744773a1"
   }
  }
 },
 "nbformat": 4,
 "nbformat_minor": 5
}
