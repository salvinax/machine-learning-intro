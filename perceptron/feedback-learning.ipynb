{
 "cells": [
  {
   "attachments": {},
   "cell_type": "markdown",
   "id": "1e6f1ce7",
   "metadata": {},
   "source": [
    "# Perceptron\n"
   ]
  },
  {
   "attachments": {},
   "cell_type": "markdown",
   "id": "51ca32e4",
   "metadata": {},
   "source": [
    "### Build Model \n",
    "Implement **Simple Feedback Learning** for emotion classification (dataset from: https://www.kaggle.com/praveengovi/emotions-dataset-for-nlp)\n",
    "\n",
    "Use the correct/incorrect feedback and info about (y>d) or (y<d) to change weights.  \n",
    "\n",
    "\n",
    "- 1. Implement forward and calculate the output\n",
    "- 2. Update the weights and bias\n",
    "- 3. Predict function\n",
    "- 4. Activation function\n",
    "\n",
    "### Evaluator Function\n",
    "Implement the evaluator function with Pytorch or Numpy only   \n",
    "- Evaluation metrics include confusion matrix, accuracy, recall score, precision and F1 score\n",
    "\n",
    "### Train and Evaluate the Model\n",
    "Train the model with customized learning rate and number of iterations  \n",
    "Use the predict function to predict the labels with the test dataset  \n",
    "Evaluate the prediction results  \n",
    "- Evaluation metrics include confusion matrix, accuracy, recall score, precision and F1 score\n"
   ]
  },
  {
   "cell_type": "code",
   "execution_count": 1,
   "id": "e88fb434",
   "metadata": {
    "_cell_guid": "b1076dfc-b9ad-4769-8c92-a6c4dae69d19",
    "_uuid": "8f2839f25d086af736a60e9eeb907d3b93b6e0e5",
    "execution": {
     "iopub.execute_input": "2021-07-30T15:55:22.461852Z",
     "iopub.status.busy": "2021-07-30T15:55:22.461145Z",
     "iopub.status.idle": "2021-07-30T15:55:22.477161Z",
     "shell.execute_reply": "2021-07-30T15:55:22.476528Z",
     "shell.execute_reply.started": "2021-07-30T15:51:46.068206Z"
    },
    "papermill": {
     "duration": 0.128227,
     "end_time": "2021-07-30T15:55:22.477337",
     "exception": false,
     "start_time": "2021-07-30T15:55:22.349110",
     "status": "completed"
    },
    "tags": []
   },
   "outputs": [],
   "source": [
    "import numpy as np\n",
    "import pandas as pd\n",
    "import matplotlib.pyplot as plt"
   ]
  },
  {
   "cell_type": "code",
   "execution_count": 2,
   "id": "ec206866",
   "metadata": {
    "execution": {
     "iopub.execute_input": "2021-07-30T15:55:22.527612Z",
     "iopub.status.busy": "2021-07-30T15:55:22.527076Z",
     "iopub.status.idle": "2021-07-30T15:55:22.630770Z",
     "shell.execute_reply": "2021-07-30T15:55:22.630179Z",
     "shell.execute_reply.started": "2021-07-30T15:51:49.309549Z"
    },
    "papermill": {
     "duration": 0.129591,
     "end_time": "2021-07-30T15:55:22.630946",
     "exception": false,
     "start_time": "2021-07-30T15:55:22.501355",
     "status": "completed"
    },
    "scrolled": true,
    "tags": []
   },
   "outputs": [],
   "source": [
    "# load dataset\n",
    "df_train = pd.read_csv('data/train.txt', names=['Text', 'Emotion'], sep=';')\n",
    "df_test = pd.read_csv('data/test.txt', names=['Text', 'Emotion'], sep=';')"
   ]
  },
  {
   "cell_type": "code",
   "execution_count": 3,
   "id": "45b67a79",
   "metadata": {},
   "outputs": [
    {
     "data": {
      "text/html": [
       "<div>\n",
       "<style scoped>\n",
       "    .dataframe tbody tr th:only-of-type {\n",
       "        vertical-align: middle;\n",
       "    }\n",
       "\n",
       "    .dataframe tbody tr th {\n",
       "        vertical-align: top;\n",
       "    }\n",
       "\n",
       "    .dataframe thead th {\n",
       "        text-align: right;\n",
       "    }\n",
       "</style>\n",
       "<table border=\"1\" class=\"dataframe\">\n",
       "  <thead>\n",
       "    <tr style=\"text-align: right;\">\n",
       "      <th></th>\n",
       "      <th>Text</th>\n",
       "      <th>Emotion</th>\n",
       "    </tr>\n",
       "  </thead>\n",
       "  <tbody>\n",
       "    <tr>\n",
       "      <th>0</th>\n",
       "      <td>i didnt feel humiliated</td>\n",
       "      <td>sadness</td>\n",
       "    </tr>\n",
       "    <tr>\n",
       "      <th>1</th>\n",
       "      <td>i can go from feeling so hopeless to so damned...</td>\n",
       "      <td>sadness</td>\n",
       "    </tr>\n",
       "    <tr>\n",
       "      <th>2</th>\n",
       "      <td>im grabbing a minute to post i feel greedy wrong</td>\n",
       "      <td>anger</td>\n",
       "    </tr>\n",
       "    <tr>\n",
       "      <th>3</th>\n",
       "      <td>i am ever feeling nostalgic about the fireplac...</td>\n",
       "      <td>love</td>\n",
       "    </tr>\n",
       "    <tr>\n",
       "      <th>4</th>\n",
       "      <td>i am feeling grouchy</td>\n",
       "      <td>anger</td>\n",
       "    </tr>\n",
       "  </tbody>\n",
       "</table>\n",
       "</div>"
      ],
      "text/plain": [
       "                                                Text  Emotion\n",
       "0                            i didnt feel humiliated  sadness\n",
       "1  i can go from feeling so hopeless to so damned...  sadness\n",
       "2   im grabbing a minute to post i feel greedy wrong    anger\n",
       "3  i am ever feeling nostalgic about the fireplac...     love\n",
       "4                               i am feeling grouchy    anger"
      ]
     },
     "execution_count": 3,
     "metadata": {},
     "output_type": "execute_result"
    }
   ],
   "source": [
    "x_train = df_train['Text']\n",
    "y_train = df_train['Emotion']\n",
    "\n",
    "x_test = df_test['Text']\n",
    "y_test = df_test['Emotion']\n",
    "\n",
    "df_train.head()"
   ]
  },
  {
   "cell_type": "code",
   "execution_count": 4,
   "id": "7d9b94da",
   "metadata": {
    "execution": {
     "iopub.execute_input": "2021-07-30T15:55:22.734110Z",
     "iopub.status.busy": "2021-07-30T15:55:22.733595Z",
     "iopub.status.idle": "2021-07-30T15:55:23.506339Z",
     "shell.execute_reply": "2021-07-30T15:55:23.505894Z",
     "shell.execute_reply.started": "2021-07-30T15:51:50.435525Z"
    },
    "papermill": {
     "duration": 0.797748,
     "end_time": "2021-07-30T15:55:23.506460",
     "exception": false,
     "start_time": "2021-07-30T15:55:22.708712",
     "status": "completed"
    },
    "tags": []
   },
   "outputs": [
    {
     "data": {
      "text/plain": [
       "joy         5362\n",
       "sadness     4666\n",
       "anger       2159\n",
       "fear        1937\n",
       "love        1304\n",
       "surprise     572\n",
       "Name: Emotion, dtype: int64"
      ]
     },
     "execution_count": 4,
     "metadata": {},
     "output_type": "execute_result"
    }
   ],
   "source": [
    "df_train.Emotion.value_counts()"
   ]
  },
  {
   "cell_type": "markdown",
   "id": "6fcf3c63",
   "metadata": {},
   "source": [
    "## Data Preprocessing"
   ]
  },
  {
   "cell_type": "code",
   "execution_count": 5,
   "id": "9de64e8f",
   "metadata": {},
   "outputs": [],
   "source": [
    "# encode label\n",
    "y_train = y_train.replace({'joy':1, 'sadness':0, 'anger':0, 'fear':0, 'love':1, 'surprise':1})\n",
    "y_test = y_test.replace({'joy':1, 'sadness':0, 'anger':0, 'fear':0, 'love':1, 'surprise':1})"
   ]
  },
  {
   "cell_type": "code",
   "execution_count": 6,
   "id": "e45acbde",
   "metadata": {},
   "outputs": [],
   "source": [
    "from sklearn.feature_extraction.text import TfidfVectorizer\n",
    "tfidf = TfidfVectorizer(sublinear_tf=True, min_df=5)#, stop_words='english')\n",
    "\n",
    "# We transform each text into a vector\n",
    "x_train = tfidf.fit_transform(x_train).toarray()\n",
    "x_test = tfidf.transform(x_test).toarray()"
   ]
  },
  {
   "cell_type": "code",
   "execution_count": 7,
   "id": "6dd38370",
   "metadata": {},
   "outputs": [],
   "source": [
    "def evaluator(y_test, y_pred):\n",
    "    ####################################################################################################\n",
    "    # enter code here to implement the evaluation matrices including confusion matrix, accuracy, precision, recall and f1\n",
    "    # DO NOT use any python packages such as scikit-learn\n",
    "    tp = tn = fp = fn = 0\n",
    "    \n",
    "    #TP: test = 1; predicted 1\n",
    "    #TN: test = 0; predicted 0\n",
    "    #FP: test = 0; predicted 1\n",
    "    #FN: test = 1; predicted 0\n",
    "\n",
    "    #iterate through arrays \n",
    "\n",
    "    for i in range(y_test.shape[0]):\n",
    "        for yt, yp in zip(y_test, y_pred):\n",
    "            if (yt == 1) & (yp == 1):\n",
    "                tp += 1\n",
    "            if (yt == 0) & (yp == 0):\n",
    "                tn += 1\n",
    "            if (yt == 0) & (yp == 1):\n",
    "                fp += 1\n",
    "            if (yt == 1) & (yp == 0):\n",
    "                fn += 1\n",
    "        \n",
    "    #print results\n",
    "    #print(tp, tn, fp, fn)\n",
    "    print(\" EVALUATION METRICS\\n\")\n",
    "    #PRINT CONFUSION MATRIX\n",
    "    print(\"  Confusion Matrix\")\n",
    "\n",
    "    print(\"     TP     FP\")\n",
    "    print(\"     FN     TN\\n\")\n",
    "   \n",
    "    matrix = np.array([[tp, fp], [fn, tn]])\n",
    "    print(matrix)\n",
    "    print()\n",
    "     #ACCURACY\n",
    "    accuracy = (tp+tn)/(tp+fp+tn+fn)\n",
    "    print(\"   Accuracy: %.2f\" % accuracy)\n",
    "    #PRECISION\n",
    "    precision = tp/(tp+fp)\n",
    "    print(\"   Precision: %.2f\" % precision)\n",
    "    #RECALL \n",
    "    recall = tp/(tp+fn)\n",
    "    print(\"   Recall: %.2f\" % recall)\n",
    "    #F1\n",
    "    f1 = (2*precision*recall)/(precision+recall)\n",
    "    print(\"   F1 score: %.2f\" % f1)\n",
    "    ####################################################################################################"
   ]
  },
  {
   "cell_type": "code",
   "execution_count": 8,
   "id": "141ff2cd",
   "metadata": {},
   "outputs": [],
   "source": [
    "from tkinter import W\n",
    "\n",
    "\n",
    "class SimpleFeedbackLearning(object):\n",
    "    def __init__(self):\n",
    "        self.history = {}\n",
    "        self.history['train_acc'] = []\n",
    "        self.history['test_acc'] = []\n",
    "        \n",
    "    def f(self, x):\n",
    "        ####################################################################################################\n",
    "        # 4. enter code here to implement the activation function\n",
    "        f = np.dot(x, self.W) + self.b\n",
    "        fx = np.where(f > 0.5, 1, 0)\n",
    "        return fx\n",
    "        ####################################################################################################\n",
    "        \n",
    "    \n",
    "    def train(self, x, y, x_test, y_test, learning_rate=0.1, n_iters=10,verbose=True):\n",
    "        n_train, input_size = x.shape\n",
    "        n_test = x_test.shape[0]\n",
    "        # weight initialization\n",
    "        self.W = np.zeros(input_size)\n",
    "        self.b = np.zeros(1)\n",
    "        \n",
    "\n",
    "        for i in range(n_iters):\n",
    "            for xi, yi in zip(x, y):\n",
    "                # forward\n",
    "                ####################################################################################################\n",
    "                # 1. enter code here to calculate the output\n",
    "                prediction = self.predict(xi)\n",
    "                ####################################################################################################\n",
    "\n",
    "                ####################################################################################################\n",
    "                # 2. enter code here to adjust the weights and bias\n",
    "\n",
    "                #SIMPLE FEEDBACK LEARNING\n",
    "                # y = 1 and d = 0 (y>d)\n",
    "                if (prediction > yi):\n",
    "                    self.W -= (learning_rate * xi)\n",
    "                # y = 0 and d = 1 (y<d)\n",
    "                elif (prediction < yi):\n",
    "                    self.W += (learning_rate * xi)\n",
    "\n",
    "                self.b += learning_rate * (yi - prediction)\n",
    "\n",
    "                #ERROR CALCULATION LEARNING\n",
    "                #self.W += (learning_rate * (yi - prediction) * xi)\n",
    "                #self.b += learning_rate * (yi - prediction)\n",
    "                ####################################################################################################\n",
    "\n",
    "            train_acc = (self.predict(x) == y).sum() / n_train\n",
    "            test_acc = (self.predict(x_test) == y_test).sum() / n_test\n",
    "            self.history['train_acc'].append(train_acc)\n",
    "            self.history['test_acc'].append(test_acc)\n",
    "            if verbose:\n",
    "                print('epoch %d, train acc %.4f, test acc %.4f' % (i + 1, train_acc, test_acc))\n",
    "\n",
    "    def predict(self, x):\n",
    "        ####################################################################################################\n",
    "        # 3. enter code here to complete the predict function\n",
    "        # TODO: use the trained weights to predict labels and return the predicted labels\n",
    "        y_pred = self.f(x)\n",
    "        ####################################################################################################\n",
    "        return y_pred"
   ]
  },
  {
   "cell_type": "code",
   "execution_count": 9,
   "id": "5ff486a5",
   "metadata": {},
   "outputs": [
    {
     "name": "stdout",
     "output_type": "stream",
     "text": [
      "epoch 1, train acc 0.8380, test acc 0.8225\n",
      "epoch 2, train acc 0.9132, test acc 0.9025\n",
      "epoch 3, train acc 0.9614, test acc 0.9405\n",
      "epoch 4, train acc 0.9326, test acc 0.9180\n",
      "epoch 5, train acc 0.9566, test acc 0.9210\n",
      "epoch 6, train acc 0.9539, test acc 0.9375\n",
      "epoch 7, train acc 0.9693, test acc 0.9330\n",
      "epoch 8, train acc 0.9738, test acc 0.9355\n",
      "epoch 9, train acc 0.9576, test acc 0.9300\n",
      "epoch 10, train acc 0.9702, test acc 0.9285\n"
     ]
    }
   ],
   "source": [
    "####################################################################################################\n",
    "# enter code here to initialize and train the model\n",
    "model1 = SimpleFeedbackLearning() #initializing new perceptron\n",
    "model1.train(x_train, y_train, x_test, y_test)\n",
    "####################################################################################################\n"
   ]
  },
  {
   "cell_type": "code",
   "execution_count": 10,
   "id": "5f96a63c",
   "metadata": {},
   "outputs": [
    {
     "data": {
      "image/png": "[encoded data removed]",
      "text/plain": [
       "<Figure size 640x480 with 1 Axes>"
      ]
     },
     "metadata": {},
     "output_type": "display_data"
    }
   ],
   "source": [
    "# plot the accuracy\n",
    "plt.plot(model1.history['train_acc'], label='train_acc')\n",
    "plt.plot(model1.history['test_acc'], label='test_acc')\n",
    "plt.legend()\n",
    "plt.show()"
   ]
  },
  {
   "cell_type": "code",
   "execution_count": 11,
   "id": "49b42d82",
   "metadata": {},
   "outputs": [
    {
     "name": "stdout",
     "output_type": "stream",
     "text": [
      " EVALUATION METRICS\n",
      "\n",
      "  Confusion Matrix\n",
      "     TP     FP\n",
      "     FN     TN\n",
      "\n",
      "[[1788000  234000]\n",
      " [  52000 1926000]]\n",
      "\n",
      "   Accuracy: 0.93\n",
      "   Precision: 0.88\n",
      "   Recall: 0.97\n",
      "   F1 score: 0.93\n"
     ]
    }
   ],
   "source": [
    "####################################################################################################\n",
    "# enter code here to evaluate the model with the evaluator function\n",
    "evaluator(y_test, model1.predict(x_test))\n",
    "####################################################################################################"
   ]
  }
 ],
 "metadata": {
  "kernelspec": {
   "display_name": "Python 3.10.4 64-bit",
   "language": "python",
   "name": "python3"
  },
  "language_info": {
   "codemirror_mode": {
    "name": "ipython",
    "version": 3
   },
   "file_extension": ".py",
   "mimetype": "text/x-python",
   "name": "python",
   "nbconvert_exporter": "python",
   "pygments_lexer": "ipython3",
   "version": "3.10.4"
  },
  "papermill": {
   "default_parameters": {},
   "duration": 94.692615,
   "end_time": "2021-07-30T15:56:50.140202",
   "environment_variables": {},
   "exception": null,
   "input_path": "__notebook__.ipynb",
   "output_path": "__notebook__.ipynb",
   "parameters": {},
   "start_time": "2021-07-30T15:55:15.447587",
   "version": "2.3.3"
  },
  "vscode": {
   "interpreter": {
    "hash": "02cfc429b2e24114355da6aa7d6a7dc7ac0f6ad77f72d32bcd606d47744773a1"
   }
  }
 },
 "nbformat": 4,
 "nbformat_minor": 5
}
