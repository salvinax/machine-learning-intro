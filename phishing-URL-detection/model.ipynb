{
 "cells": [
  {
   "attachments": {},
   "cell_type": "markdown",
   "metadata": {},
   "source": [
    "# Phishing URL Detection\n",
    "\n",
    "The purpose of this project is to detect malicious phishing URL. The model implemented is a hybrid LSTM and CNN model. "
   ]
  },
  {
   "cell_type": "markdown",
   "metadata": {},
   "source": [
    "## Data Cleaning"
   ]
  },
  {
   "cell_type": "code",
   "execution_count": 2,
   "metadata": {},
   "outputs": [],
   "source": [
    "import pandas as pd"
   ]
  },
  {
   "cell_type": "code",
   "execution_count": 3,
   "metadata": {},
   "outputs": [
    {
     "data": {
      "text/html": [
       "<div>\n",
       "<style scoped>\n",
       "    .dataframe tbody tr th:only-of-type {\n",
       "        vertical-align: middle;\n",
       "    }\n",
       "\n",
       "    .dataframe tbody tr th {\n",
       "        vertical-align: top;\n",
       "    }\n",
       "\n",
       "    .dataframe thead th {\n",
       "        text-align: right;\n",
       "    }\n",
       "</style>\n",
       "<table border=\"1\" class=\"dataframe\">\n",
       "  <thead>\n",
       "    <tr style=\"text-align: right;\">\n",
       "      <th></th>\n",
       "      <th>URL</th>\n",
       "      <th>Label</th>\n",
       "    </tr>\n",
       "  </thead>\n",
       "  <tbody>\n",
       "    <tr>\n",
       "      <th>0</th>\n",
       "      <td>nobell.it/70ffb52d079109dca5664cce6f317373782/...</td>\n",
       "      <td>bad</td>\n",
       "    </tr>\n",
       "    <tr>\n",
       "      <th>1</th>\n",
       "      <td>www.dghjdgf.com/paypal.co.uk/cycgi-bin/webscrc...</td>\n",
       "      <td>bad</td>\n",
       "    </tr>\n",
       "    <tr>\n",
       "      <th>2</th>\n",
       "      <td>serviciosbys.com/paypal.cgi.bin.get-into.herf....</td>\n",
       "      <td>bad</td>\n",
       "    </tr>\n",
       "    <tr>\n",
       "      <th>3</th>\n",
       "      <td>mail.printakid.com/www.online.americanexpress....</td>\n",
       "      <td>bad</td>\n",
       "    </tr>\n",
       "    <tr>\n",
       "      <th>4</th>\n",
       "      <td>thewhiskeydregs.com/wp-content/themes/widescre...</td>\n",
       "      <td>bad</td>\n",
       "    </tr>\n",
       "    <tr>\n",
       "      <th>...</th>\n",
       "      <td>...</td>\n",
       "      <td>...</td>\n",
       "    </tr>\n",
       "    <tr>\n",
       "      <th>549341</th>\n",
       "      <td>23.227.196.215/</td>\n",
       "      <td>bad</td>\n",
       "    </tr>\n",
       "    <tr>\n",
       "      <th>549342</th>\n",
       "      <td>apple-checker.org/</td>\n",
       "      <td>bad</td>\n",
       "    </tr>\n",
       "    <tr>\n",
       "      <th>549343</th>\n",
       "      <td>apple-iclods.org/</td>\n",
       "      <td>bad</td>\n",
       "    </tr>\n",
       "    <tr>\n",
       "      <th>549344</th>\n",
       "      <td>apple-uptoday.org/</td>\n",
       "      <td>bad</td>\n",
       "    </tr>\n",
       "    <tr>\n",
       "      <th>549345</th>\n",
       "      <td>apple-search.info</td>\n",
       "      <td>bad</td>\n",
       "    </tr>\n",
       "  </tbody>\n",
       "</table>\n",
       "<p>549346 rows × 2 columns</p>\n",
       "</div>"
      ],
      "text/plain": [
       "                                                      URL Label\n",
       "0       nobell.it/70ffb52d079109dca5664cce6f317373782/...   bad\n",
       "1       www.dghjdgf.com/paypal.co.uk/cycgi-bin/webscrc...   bad\n",
       "2       serviciosbys.com/paypal.cgi.bin.get-into.herf....   bad\n",
       "3       mail.printakid.com/www.online.americanexpress....   bad\n",
       "4       thewhiskeydregs.com/wp-content/themes/widescre...   bad\n",
       "...                                                   ...   ...\n",
       "549341                                    23.227.196.215/   bad\n",
       "549342                                 apple-checker.org/   bad\n",
       "549343                                  apple-iclods.org/   bad\n",
       "549344                                 apple-uptoday.org/   bad\n",
       "549345                                  apple-search.info   bad\n",
       "\n",
       "[549346 rows x 2 columns]"
      ]
     },
     "execution_count": 3,
     "metadata": {},
     "output_type": "execute_result"
    }
   ],
   "source": [
    "#load dataset \n",
    "data = pd.read_csv(\"data/phishing_site_urls.csv\")\n",
    "data"
   ]
  },
  {
   "cell_type": "code",
   "execution_count": 4,
   "metadata": {},
   "outputs": [
    {
     "data": {
      "text/html": [
       "<div>\n",
       "<style scoped>\n",
       "    .dataframe tbody tr th:only-of-type {\n",
       "        vertical-align: middle;\n",
       "    }\n",
       "\n",
       "    .dataframe tbody tr th {\n",
       "        vertical-align: top;\n",
       "    }\n",
       "\n",
       "    .dataframe thead th {\n",
       "        text-align: right;\n",
       "    }\n",
       "</style>\n",
       "<table border=\"1\" class=\"dataframe\">\n",
       "  <thead>\n",
       "    <tr style=\"text-align: right;\">\n",
       "      <th></th>\n",
       "      <th>URL</th>\n",
       "      <th>Label</th>\n",
       "    </tr>\n",
       "  </thead>\n",
       "  <tbody>\n",
       "    <tr>\n",
       "      <th>0</th>\n",
       "      <td>nobell.it/70ffb52d079109dca5664cce6f317373782/...</td>\n",
       "      <td>bad</td>\n",
       "    </tr>\n",
       "    <tr>\n",
       "      <th>1</th>\n",
       "      <td>www.dghjdgf.com/paypal.co.uk/cycgi-bin/webscrc...</td>\n",
       "      <td>bad</td>\n",
       "    </tr>\n",
       "    <tr>\n",
       "      <th>2</th>\n",
       "      <td>serviciosbys.com/paypal.cgi.bin.get-into.herf....</td>\n",
       "      <td>bad</td>\n",
       "    </tr>\n",
       "    <tr>\n",
       "      <th>3</th>\n",
       "      <td>mail.printakid.com/www.online.americanexpress....</td>\n",
       "      <td>bad</td>\n",
       "    </tr>\n",
       "    <tr>\n",
       "      <th>4</th>\n",
       "      <td>thewhiskeydregs.com/wp-content/themes/widescre...</td>\n",
       "      <td>bad</td>\n",
       "    </tr>\n",
       "    <tr>\n",
       "      <th>...</th>\n",
       "      <td>...</td>\n",
       "      <td>...</td>\n",
       "    </tr>\n",
       "    <tr>\n",
       "      <th>507191</th>\n",
       "      <td>23.227.196.215/</td>\n",
       "      <td>bad</td>\n",
       "    </tr>\n",
       "    <tr>\n",
       "      <th>507192</th>\n",
       "      <td>apple-checker.org/</td>\n",
       "      <td>bad</td>\n",
       "    </tr>\n",
       "    <tr>\n",
       "      <th>507193</th>\n",
       "      <td>apple-iclods.org/</td>\n",
       "      <td>bad</td>\n",
       "    </tr>\n",
       "    <tr>\n",
       "      <th>507194</th>\n",
       "      <td>apple-uptoday.org/</td>\n",
       "      <td>bad</td>\n",
       "    </tr>\n",
       "    <tr>\n",
       "      <th>507195</th>\n",
       "      <td>apple-search.info</td>\n",
       "      <td>bad</td>\n",
       "    </tr>\n",
       "  </tbody>\n",
       "</table>\n",
       "<p>507196 rows × 2 columns</p>\n",
       "</div>"
      ],
      "text/plain": [
       "                                                      URL Label\n",
       "0       nobell.it/70ffb52d079109dca5664cce6f317373782/...   bad\n",
       "1       www.dghjdgf.com/paypal.co.uk/cycgi-bin/webscrc...   bad\n",
       "2       serviciosbys.com/paypal.cgi.bin.get-into.herf....   bad\n",
       "3       mail.printakid.com/www.online.americanexpress....   bad\n",
       "4       thewhiskeydregs.com/wp-content/themes/widescre...   bad\n",
       "...                                                   ...   ...\n",
       "507191                                    23.227.196.215/   bad\n",
       "507192                                 apple-checker.org/   bad\n",
       "507193                                  apple-iclods.org/   bad\n",
       "507194                                 apple-uptoday.org/   bad\n",
       "507195                                  apple-search.info   bad\n",
       "\n",
       "[507196 rows x 2 columns]"
      ]
     },
     "execution_count": 4,
     "metadata": {},
     "output_type": "execute_result"
    }
   ],
   "source": [
    "#make sure there's no NaN values\n",
    "data = data.dropna()\n",
    "\n",
    "#dropping duplicates\n",
    "data.drop_duplicates(inplace=True)\n",
    "data = data.reset_index(drop=True)\n",
    "data"
   ]
  },
  {
   "cell_type": "code",
   "execution_count": 5,
   "metadata": {},
   "outputs": [
    {
     "data": {
      "text/plain": [
       "good    392897\n",
       "bad     114299\n",
       "Name: Label, dtype: int64"
      ]
     },
     "execution_count": 5,
     "metadata": {},
     "output_type": "execute_result"
    },
    {
     "data": {
      "image/png": "[encoded data removed]",
      "text/plain": [
       "<Figure size 640x480 with 1 Axes>"
      ]
     },
     "metadata": {},
     "output_type": "display_data"
    }
   ],
   "source": [
    "graph = data['Label'].value_counts().plot(kind='bar', title = 'Frequency of Genuine and Phishing Urls in Dataset')\n",
    "graph.set_ylabel(\"Frequency\")\n",
    "data['Label'].value_counts()"
   ]
  },
  {
   "cell_type": "code",
   "execution_count": 6,
   "metadata": {},
   "outputs": [
    {
     "data": {
      "text/html": [
       "<div>\n",
       "<style scoped>\n",
       "    .dataframe tbody tr th:only-of-type {\n",
       "        vertical-align: middle;\n",
       "    }\n",
       "\n",
       "    .dataframe tbody tr th {\n",
       "        vertical-align: top;\n",
       "    }\n",
       "\n",
       "    .dataframe thead th {\n",
       "        text-align: right;\n",
       "    }\n",
       "</style>\n",
       "<table border=\"1\" class=\"dataframe\">\n",
       "  <thead>\n",
       "    <tr style=\"text-align: right;\">\n",
       "      <th></th>\n",
       "      <th>URL</th>\n",
       "      <th>Label</th>\n",
       "    </tr>\n",
       "  </thead>\n",
       "  <tbody>\n",
       "    <tr>\n",
       "      <th>0</th>\n",
       "      <td>nobell.it/70ffb52d079109dca5664cce6f317373782/...</td>\n",
       "      <td>1</td>\n",
       "    </tr>\n",
       "    <tr>\n",
       "      <th>1</th>\n",
       "      <td>www.dghjdgf.com/paypal.co.uk/cycgi-bin/webscrc...</td>\n",
       "      <td>1</td>\n",
       "    </tr>\n",
       "    <tr>\n",
       "      <th>2</th>\n",
       "      <td>serviciosbys.com/paypal.cgi.bin.get-into.herf....</td>\n",
       "      <td>1</td>\n",
       "    </tr>\n",
       "    <tr>\n",
       "      <th>3</th>\n",
       "      <td>mail.printakid.com/www.online.americanexpress....</td>\n",
       "      <td>1</td>\n",
       "    </tr>\n",
       "    <tr>\n",
       "      <th>4</th>\n",
       "      <td>thewhiskeydregs.com/wp-content/themes/widescre...</td>\n",
       "      <td>1</td>\n",
       "    </tr>\n",
       "    <tr>\n",
       "      <th>...</th>\n",
       "      <td>...</td>\n",
       "      <td>...</td>\n",
       "    </tr>\n",
       "    <tr>\n",
       "      <th>507191</th>\n",
       "      <td>23.227.196.215/</td>\n",
       "      <td>1</td>\n",
       "    </tr>\n",
       "    <tr>\n",
       "      <th>507192</th>\n",
       "      <td>apple-checker.org/</td>\n",
       "      <td>1</td>\n",
       "    </tr>\n",
       "    <tr>\n",
       "      <th>507193</th>\n",
       "      <td>apple-iclods.org/</td>\n",
       "      <td>1</td>\n",
       "    </tr>\n",
       "    <tr>\n",
       "      <th>507194</th>\n",
       "      <td>apple-uptoday.org/</td>\n",
       "      <td>1</td>\n",
       "    </tr>\n",
       "    <tr>\n",
       "      <th>507195</th>\n",
       "      <td>apple-search.info</td>\n",
       "      <td>1</td>\n",
       "    </tr>\n",
       "  </tbody>\n",
       "</table>\n",
       "<p>507196 rows × 2 columns</p>\n",
       "</div>"
      ],
      "text/plain": [
       "                                                      URL  Label\n",
       "0       nobell.it/70ffb52d079109dca5664cce6f317373782/...      1\n",
       "1       www.dghjdgf.com/paypal.co.uk/cycgi-bin/webscrc...      1\n",
       "2       serviciosbys.com/paypal.cgi.bin.get-into.herf....      1\n",
       "3       mail.printakid.com/www.online.americanexpress....      1\n",
       "4       thewhiskeydregs.com/wp-content/themes/widescre...      1\n",
       "...                                                   ...    ...\n",
       "507191                                    23.227.196.215/      1\n",
       "507192                                 apple-checker.org/      1\n",
       "507193                                  apple-iclods.org/      1\n",
       "507194                                 apple-uptoday.org/      1\n",
       "507195                                  apple-search.info      1\n",
       "\n",
       "[507196 rows x 2 columns]"
      ]
     },
     "execution_count": 6,
     "metadata": {},
     "output_type": "execute_result"
    }
   ],
   "source": [
    "# encode label\n",
    "data['Label'] = data['Label'].replace(['bad', 'good'], [1, 0])\n",
    "data"
   ]
  },
  {
   "cell_type": "code",
   "execution_count": 7,
   "metadata": {},
   "outputs": [
    {
     "data": {
      "text/plain": [
       "0    114299\n",
       "1    114299\n",
       "Name: Label, dtype: int64"
      ]
     },
     "execution_count": 7,
     "metadata": {},
     "output_type": "execute_result"
    },
    {
     "data": {
      "image/png": "[encoded data removed]",
      "text/plain": [
       "<Figure size 640x480 with 1 Axes>"
      ]
     },
     "metadata": {},
     "output_type": "display_data"
    }
   ],
   "source": [
    "import random \n",
    "#DID NOT USE THIS IN FINAL IMPLEMENTATION\n",
    "#can remove data unbalance by undersampling data with non-phishing label\n",
    "\n",
    "#retrieve number of phishing samples\n",
    "phishNum = len(data[data['Label'] == 1])\n",
    "\n",
    "#find indices of phishing and non-phishing samples \n",
    "phishing = data[data['Label'] == 1].index\n",
    "nophishing = data[data['Label'] == 0].index\n",
    "\n",
    "#pick a sample (same size as phishing) of non-phishing data\n",
    "new_nophishingindx = random.sample(list(nophishing), k = len(phishing))\n",
    "\n",
    "#concatenate the two lists of index\n",
    "undersampleindx = new_nophishingindx + list(phishing)\n",
    "\n",
    "#get undersampled dataframe from the merged indices\n",
    "undersampled = data.loc[undersampleindx]\n",
    "\n",
    "#graph frequency of labels\n",
    "graph = undersampled['Label'].value_counts().plot(kind='bar', title = 'Frequency of Genuine and Phishing Urls in Dataset')\n",
    "graph.set_ylabel(\"Frequency\")\n",
    "undersampled['Label'].value_counts()\n"
   ]
  },
  {
   "cell_type": "markdown",
   "metadata": {},
   "source": [
    "## Pre-Processing"
   ]
  },
  {
   "cell_type": "code",
   "execution_count": 8,
   "metadata": {},
   "outputs": [],
   "source": [
    "from string import printable\n",
    "import tensorflow as tf\n",
    "import numpy as np\n",
    "from keras.utils import pad_sequences\n",
    "from sklearn.model_selection import train_test_split\n"
   ]
  },
  {
   "cell_type": "code",
   "execution_count": 9,
   "metadata": {},
   "outputs": [
    {
     "name": "stdout",
     "output_type": "stream",
     "text": [
      "Matrix dimensions of X:  (507196, 75) Vector dimension of response:  (507196,)\n"
     ]
    }
   ],
   "source": [
    "\n",
    "#use hashing methods \n",
    "#convert each url to a vector by mapping each character to a numerical value \n",
    "url_tokens = []\n",
    "for url in data.URL:\n",
    "    vector_url = []\n",
    "\n",
    "    for x in url:\n",
    "        if x in printable:\n",
    "            vector_url.append(printable.index(x) + 1)\n",
    "    url_tokens.append(vector_url)\n",
    "\n",
    "#ensure that all vectors are the same size by adding padding \n",
    "x = pad_sequences(url_tokens, maxlen = 75, padding = 'post')\n",
    "y = data.Label\n",
    "\n",
    "print('Matrix dimensions of X: ', x.shape, 'Vector dimension of response: ', y.shape)\n",
    "\n",
    "\n",
    "#this can also be done by finding the unicode of each character in string using ord()\n",
    "# url_tok = []\n",
    "# for url in data.URL:\n",
    "#     vector = []\n",
    "#     for x in url:\n",
    "#         vector.append(ord(x))\n",
    "#     url_tok.append(vector)\n",
    "\n",
    "# x = pad_sequences(url_tok, maxlen = 75, padding = 'post')\n",
    "# y = np.array(data['Label'].copy()).astype(int)\n",
    "\n",
    "# print(y)\n",
    "# print(x)\n",
    "\n"
   ]
  },
  {
   "cell_type": "code",
   "execution_count": 10,
   "metadata": {},
   "outputs": [
    {
     "data": {
      "text/plain": [
       "((405756, 75), (101440, 75), (405756,), (101440,))"
      ]
     },
     "execution_count": 10,
     "metadata": {},
     "output_type": "execute_result"
    }
   ],
   "source": [
    "#split our dataset\n",
    "x_train, x_test, y_train, y_test = train_test_split(x, y, test_size=0.2, random_state=0)\n",
    "x_train.shape, x_test.shape, y_train.shape, y_test.shape"
   ]
  },
  {
   "cell_type": "markdown",
   "metadata": {},
   "source": [
    "## Classification"
   ]
  },
  {
   "cell_type": "code",
   "execution_count": 11,
   "metadata": {},
   "outputs": [],
   "source": [
    "from keras.datasets import imdb\n",
    "from keras.layers import Embedding, Dense, LSTM, Conv1D, BatchNormalization\n",
    "from keras.utils.vis_utils import plot_model\n",
    "from keras.losses import BinaryCrossentropy\n",
    "\n",
    "from keras.models import Sequential\n",
    "from keras.optimizers import Adam\n",
    "\n",
    "import warnings\n",
    "warnings.filterwarnings(\"ignore\")"
   ]
  },
  {
   "cell_type": "code",
   "execution_count": 12,
   "metadata": {},
   "outputs": [
    {
     "name": "stdout",
     "output_type": "stream",
     "text": [
      "WARNING:tensorflow:From c:\\Users\\salvi\\AppData\\Local\\Programs\\Python\\Python310\\lib\\site-packages\\keras\\layers\\normalization\\batch_normalization.py:561: _colocate_with (from tensorflow.python.framework.ops) is deprecated and will be removed in a future version.\n",
      "Instructions for updating:\n",
      "Colocations handled automatically by placer.\n",
      "Model: \"sequential\"\n",
      "_________________________________________________________________\n",
      " Layer (type)                Output Shape              Param #   \n",
      "=================================================================\n",
      " embedding (Embedding)       (None, 75, 32)            3232      \n",
      "                                                                 \n",
      " conv1d (Conv1D)             (None, 73, 128)           12416     \n",
      "                                                                 \n",
      " batch_normalization (BatchN  (None, 73, 128)          512       \n",
      " ormalization)                                                   \n",
      "                                                                 \n",
      " lstm (LSTM)                 (None, 10)                5560      \n",
      "                                                                 \n",
      " dense (Dense)               (None, 1)                 11        \n",
      "                                                                 \n",
      "=================================================================\n",
      "Total params: 21,731\n",
      "Trainable params: 21,475\n",
      "Non-trainable params: 256\n",
      "_________________________________________________________________\n",
      "Train on 324604 samples, validate on 81152 samples\n",
      "Epoch 1/2\n",
      "324604/324604 [==============================] - 98s 301us/sample - loss: 0.2657 - accuracy: 0.9023 - val_loss: 0.1624 - val_accuracy: 0.9468\n",
      "Epoch 2/2\n",
      "324604/324604 [==============================] - 95s 292us/sample - loss: 0.1276 - accuracy: 0.9574 - val_loss: 0.1186 - val_accuracy: 0.9609\n",
      "Test results - Loss: 0.11853226231475734 - Accuracy: 96.10410332679749%\n"
     ]
    }
   ],
   "source": [
    "\n",
    "# was advised to train model for more than 2 epochs\n",
    "# Model configuration\n",
    "additional_metrics = ['accuracy']\n",
    "batch_size = 512\n",
    "embedding_output_dims = 32\n",
    "loss_function = BinaryCrossentropy()\n",
    "max_sequence_length = 75\n",
    "num_distinct_char = 101\n",
    "number_of_epochs = 2\n",
    "optimizer = Adam()\n",
    "validation_split = 0.20\n",
    "verbosity_mode = 1\n",
    "\n",
    "# Disable eager execution\n",
    "tf.compat.v1.disable_eager_execution()\n",
    "\n",
    "# Define the Keras model\n",
    "model = Sequential()\n",
    "\n",
    "model.add(Embedding(num_distinct_char, embedding_output_dims, input_length = max_sequence_length))\n",
    "model.add(Conv1D(filters=128, kernel_size=3, padding='valid', activation='relu'))\n",
    "model.add(BatchNormalization())\n",
    "model.add(LSTM(10, return_sequences = False))\n",
    "model.add(Dense(1, activation = 'sigmoid'))\n",
    "plot_model(model, to_file='model_plot.png', show_shapes=True, show_layer_names=True)\n",
    "\n",
    "# Compile the model\n",
    "model.compile(optimizer=optimizer, loss=loss_function, metrics=additional_metrics)\n",
    "\n",
    "# Give a summary\n",
    "model.summary()\n",
    "\n",
    "# Train the model\n",
    "history = model.fit(x_train, y_train, batch_size=batch_size, epochs=number_of_epochs, verbose=verbosity_mode, validation_split=validation_split)\n",
    "\n",
    "# Test the model after training\n",
    "test_results = model.evaluate(x_test, y_test, verbose = False)\n",
    "print(f'Test results - Loss: {test_results[0]} - Accuracy: {100*test_results[1]}%')"
   ]
  },
  {
   "cell_type": "markdown",
   "metadata": {},
   "source": [
    "## Evaluation"
   ]
  },
  {
   "cell_type": "code",
   "execution_count": 13,
   "metadata": {},
   "outputs": [],
   "source": [
    "from sklearn.metrics import precision_score, recall_score, confusion_matrix, classification_report, accuracy_score, f1_score, ConfusionMatrixDisplay\n",
    "\n",
    "y_pred = model.predict(x_test)\n",
    "y_pred = np.where(y_pred >= 0.5, 1, 0)"
   ]
  },
  {
   "cell_type": "code",
   "execution_count": 14,
   "metadata": {},
   "outputs": [
    {
     "name": "stdout",
     "output_type": "stream",
     "text": [
      "              precision    recall  f1-score   support\n",
      "\n",
      "           0       0.97      0.98      0.97     78574\n",
      "           1       0.92      0.91      0.91     22866\n",
      "\n",
      "    accuracy                           0.96    101440\n",
      "   macro avg       0.95      0.94      0.94    101440\n",
      "weighted avg       0.96      0.96      0.96    101440\n",
      "\n",
      "[[76728  1846]\n",
      " [ 2106 20760]]\n"
     ]
    },
    {
     "data": {
      "text/plain": [
       "<sklearn.metrics._plot.confusion_matrix.ConfusionMatrixDisplay at 0x1799f813100>"
      ]
     },
     "execution_count": 14,
     "metadata": {},
     "output_type": "execute_result"
    },
    {
     "data": {
      "image/png": "[encoded data removed]",
      "text/plain": [
       "<Figure size 640x480 with 2 Axes>"
      ]
     },
     "metadata": {},
     "output_type": "display_data"
    }
   ],
   "source": [
    "print(classification_report(y_test, y_pred))\n",
    "print(confusion_matrix(y_test, y_pred))\n",
    "\n",
    "cm = confusion_matrix(y_test, y_pred)\n",
    "disp = ConfusionMatrixDisplay(confusion_matrix = cm)\n",
    "disp.plot(cmap = 'Reds', values_format='')"
   ]
  },
  {
   "cell_type": "code",
   "execution_count": 21,
   "metadata": {},
   "outputs": [
    {
     "name": "stdout",
     "output_type": "stream",
     "text": [
      "  Confusion Matrix\n",
      "     TP     FP\n",
      "     FN     TN\n",
      "\n",
      "[[76728  1846]\n",
      " [ 2106 20760]]\n",
      "\n",
      "   Accuracy: 0.96104\n",
      "   Precision: 0.91834\n",
      "   Recall: 0.90790\n",
      "   F1 score: 0.91309\n"
     ]
    }
   ],
   "source": [
    "tn, fp, fn, tp = confusion_matrix(y_test, y_pred).ravel()\n",
    "print(\"  Confusion Matrix\")\n",
    "\n",
    "print(\"     TP     FP\")\n",
    "print(\"     FN     TN\\n\")\n",
    "\n",
    "matrix = np.array([[tn, fp], [fn, tp]])\n",
    "print(matrix)\n",
    "print()\n",
    "\n",
    "#ACCURACY\n",
    "accuracy = (tp+tn)/(tp+fp+tn+fn)\n",
    "print(\"   Accuracy: %.5f\" % accuracy)\n",
    "#PRECISION\n",
    "precision = tp/(tp+fp)\n",
    "print(\"   Precision: %.5f\" % precision)\n",
    "#RECALL \n",
    "recall = tp/(tp+fn)\n",
    "print(\"   Recall: %.5f\" % recall)\n",
    "#F1\n",
    "f1 = (2*precision*recall)/(precision+recall)\n",
    "print(\"   F1 score: %.5f\" % f1)"
   ]
  }
 ],
 "metadata": {
  "kernelspec": {
   "display_name": "Python 3.10.4 64-bit",
   "language": "python",
   "name": "python3"
  },
  "language_info": {
   "codemirror_mode": {
    "name": "ipython",
    "version": 3
   },
   "file_extension": ".py",
   "mimetype": "text/x-python",
   "name": "python",
   "nbconvert_exporter": "python",
   "pygments_lexer": "ipython3",
   "version": "3.10.4 (tags/v3.10.4:9d38120, Mar 23 2022, 23:13:41) [MSC v.1929 64 bit (AMD64)]"
  },
  "orig_nbformat": 4,
  "vscode": {
   "interpreter": {
    "hash": "02cfc429b2e24114355da6aa7d6a7dc7ac0f6ad77f72d32bcd606d47744773a1"
   }
  }
 },
 "nbformat": 4,
 "nbformat_minor": 2
}
